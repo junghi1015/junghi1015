{
 "cells": [
  {
   "cell_type": "code",
   "execution_count": null,
   "metadata": {},
   "outputs": [],
   "source": [
    "100 이하의 자연수를 입력받아 첫 번째 항은 100으로 두 번째 항은 입력받은 수로 초기화하고 다음 항부터는 전전항에서 전항을 뺀 수로 채워나가는 수열을 작성하여 그 수가 음수가 나올 때까지 출력하는 프로그램을 작성하시오.\n",
    "\n",
    "62\n",
    "\n",
    "100 62 38 24 14 10 4 6 -2"
   ]
  },
  {
   "cell_type": "code",
   "execution_count": 4,
   "metadata": {},
   "outputs": [
    {
     "name": "stdout",
     "output_type": "stream",
     "text": [
      "62\n",
      "[100, 62, 38, 24, 14, 10, 4, 6, -2]\n"
     ]
    }
   ],
   "source": [
    "n = int(input())\n",
    "result = [100]\n",
    "result.append(n)\n",
    "\n",
    "while result[-1] >= 0:\n",
    "    \n",
    "    a = result[-2] - result[-1]\n",
    "    result.append(a)\n",
    "   \n",
    "print(result)\n",
    "    "
   ]
  },
  {
   "cell_type": "code",
   "execution_count": 2,
   "metadata": {},
   "outputs": [
    {
     "data": {
      "text/plain": [
       "[100, 62, 38, 24, 14, 10, 4, 6, -2]"
      ]
     },
     "execution_count": 2,
     "metadata": {},
     "output_type": "execute_result"
    }
   ],
   "source": [
    "result"
   ]
  },
  {
   "cell_type": "code",
   "execution_count": null,
   "metadata": {},
   "outputs": [],
   "source": [
    "10 미만의 자연수 두 개를 입력받아서 \n",
    "\n",
    "첫 번째 항과 두 번째 항을 입력받은 수로 초기화 시킨 후\n",
    "\n",
    "세 번째 항부터는 전전항과 전항의 합을 구하여 \n",
    "\n",
    "그 합의 1의 자리로 채워서 차례로 10개를 출력하는 프로그램을 작성하시오.\n",
    "\n",
    "\n",
    "3 5\n",
    "\n",
    "3 5 8 3 1 4 5 9 4 3"
   ]
  },
  {
   "cell_type": "code",
   "execution_count": 6,
   "metadata": {},
   "outputs": [
    {
     "name": "stdout",
     "output_type": "stream",
     "text": [
      "3 5\n",
      "[3, 5, 8, 3, 1, 4, 5, 9, 4, 3]\n"
     ]
    }
   ],
   "source": [
    "a, b = list(map(int,input().split()))\n",
    "result = [a, b]\n",
    "\n",
    "while len(result) < 10:\n",
    "    \n",
    "    plus = result[-2] + result[-1]\n",
    "    result.append(plus%10)\n",
    "\n",
    "print(result)"
   ]
  },
  {
   "cell_type": "code",
   "execution_count": null,
   "metadata": {},
   "outputs": [],
   "source": [
    "8\n",
    "10 50 40 7 3 110 90 2\n",
    "\n",
    "10 40 7 50 3 90 2 110"
   ]
  },
  {
   "cell_type": "code",
   "execution_count": 31,
   "metadata": {},
   "outputs": [
    {
     "name": "stdout",
     "output_type": "stream",
     "text": [
      "8\n",
      "10 50 40 7 3 110 90 2\n",
      "10 40 7 50 3 90 2 110 "
     ]
    }
   ],
   "source": [
    "a = int(input())\n",
    "n = list(map(int, input().split()))\n",
    "\n",
    "n.sort()\n",
    "\n",
    "low = []\n",
    "high = []\n",
    "\n",
    "\n",
    "for i in range(a):\n",
    "    \n",
    "    if i < a/2:\n",
    "        low.append(n[i])\n",
    "        \n",
    "    else:\n",
    "        high.append(n[i])\n",
    "        \n",
    "high.sort(reverse=True)\n",
    "        \n",
    "for k in range(a):\n",
    "    \n",
    "    if k%2==0:\n",
    "        \n",
    "        print(low.pop(), end=' ')\n",
    "    else:\n",
    "        \n",
    "        print(high.pop(), end=' ')\n",
    "  \n",
    "\n",
    "\n",
    "\n"
   ]
  },
  {
   "cell_type": "code",
   "execution_count": 34,
   "metadata": {},
   "outputs": [],
   "source": [
    "b = a/2"
   ]
  },
  {
   "cell_type": "code",
   "execution_count": 36,
   "metadata": {
    "scrolled": true
   },
   "outputs": [
    {
     "data": {
      "text/plain": [
       "[2, 3, 7, 10, 40, 50, 90, 110]"
      ]
     },
     "execution_count": 36,
     "metadata": {},
     "output_type": "execute_result"
    }
   ],
   "source": [
    "n"
   ]
  },
  {
   "cell_type": "code",
   "execution_count": 24,
   "metadata": {},
   "outputs": [
    {
     "data": {
      "text/plain": [
       "[2, 3, 7, 10]"
      ]
     },
     "execution_count": 24,
     "metadata": {},
     "output_type": "execute_result"
    }
   ],
   "source": [
    "low"
   ]
  },
  {
   "cell_type": "code",
   "execution_count": 26,
   "metadata": {},
   "outputs": [
    {
     "data": {
      "text/plain": [
       "[40, 50, 90, 110]"
      ]
     },
     "execution_count": 26,
     "metadata": {},
     "output_type": "execute_result"
    }
   ],
   "source": [
    "high"
   ]
  },
  {
   "cell_type": "code",
   "execution_count": 28,
   "metadata": {},
   "outputs": [
    {
     "name": "stdout",
     "output_type": "stream",
     "text": [
      "2\n"
     ]
    }
   ],
   "source": [
    "a = [1,2,3]\n",
    "\n",
    "print(a.pop(1))"
   ]
  },
  {
   "cell_type": "code",
   "execution_count": 29,
   "metadata": {},
   "outputs": [
    {
     "data": {
      "text/plain": [
       "[1, 3]"
      ]
     },
     "execution_count": 29,
     "metadata": {},
     "output_type": "execute_result"
    }
   ],
   "source": [
    "a"
   ]
  },
  {
   "cell_type": "code",
   "execution_count": null,
   "metadata": {},
   "outputs": [],
   "source": []
  },
  {
   "cell_type": "code",
   "execution_count": null,
   "metadata": {},
   "outputs": [],
   "source": []
  },
  {
   "cell_type": "code",
   "execution_count": null,
   "metadata": {},
   "outputs": [],
   "source": []
  }
 ],
 "metadata": {
  "kernelspec": {
   "display_name": "Python 3",
   "language": "python",
   "name": "python3"
  },
  "language_info": {
   "codemirror_mode": {
    "name": "ipython",
    "version": 3
   },
   "file_extension": ".py",
   "mimetype": "text/x-python",
   "name": "python",
   "nbconvert_exporter": "python",
   "pygments_lexer": "ipython3",
   "version": "3.7.6"
  }
 },
 "nbformat": 4,
 "nbformat_minor": 4
}
