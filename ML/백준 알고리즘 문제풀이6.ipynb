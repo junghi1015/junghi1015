{
 "cells": [
  {
   "cell_type": "code",
   "execution_count": 15,
   "metadata": {},
   "outputs": [
    {
     "name": "stdout",
     "output_type": "stream",
     "text": [
      "10 15\n",
      "sum :  37\n",
      "avg :  12.3\n"
     ]
    }
   ],
   "source": [
    "a, b = list(map(int,input().split()))\n",
    "result = []\n",
    " \n",
    "for i in range(a,b+1):\n",
    "    if i%3 == 0 or i%5 ==0:\n",
    "        result.append(i)\n",
    "     \n",
    "print(\"sum :\",sum(result))\n",
    "print(\"avg : \",round(sum(result)/len(result),1))"
   ]
  },
  {
   "cell_type": "code",
   "execution_count": 9,
   "metadata": {},
   "outputs": [
    {
     "data": {
      "text/plain": [
       "12.3"
      ]
     },
     "execution_count": 9,
     "metadata": {},
     "output_type": "execute_result"
    }
   ],
   "source": [
    "round(37/3,1)"
   ]
  },
  {
   "cell_type": "code",
   "execution_count": 13,
   "metadata": {},
   "outputs": [
    {
     "data": {
      "text/plain": [
       "[10, 12, 15, 18, 20]"
      ]
     },
     "execution_count": 13,
     "metadata": {},
     "output_type": "execute_result"
    }
   ],
   "source": [
    "result"
   ]
  },
  {
   "cell_type": "code",
   "execution_count": 16,
   "metadata": {},
   "outputs": [
    {
     "name": "stdout",
     "output_type": "stream",
     "text": [
      "472\n",
      "385\n",
      "2360\n",
      "3776\n",
      "1416\n",
      "7552\n"
     ]
    }
   ],
   "source": [
    "a = int(input())\n",
    "b = int(input())\n",
    "\n",
    "print(a*(b%10))\n",
    "print(a*((b//10)%10))\n",
    "print(a*(b//100))\n",
    "print((a*(b%10)) + (a*((b//10)%10)) + (a*(b//100)))"
   ]
  },
  {
   "cell_type": "code",
   "execution_count": null,
   "metadata": {},
   "outputs": [],
   "source": [
    "0을 입력하기 전까지 두 수를 입력받아 두 수의 합과 평균을 구하시오.(단, 평균은 소수 첫째자리까지 반올림)\n",
    "\n",
    "a, b = list(map(int, input().split()))\n",
    "\n",
    "\n",
    "while TRUE:\n",
    "    if a ==0:\n",
    "        break\n",
    "    else:\n",
    "        print(\"sum :\", a+b)\n",
    "        print(\"avg :\", (a+b)/2)\n",
    "    \n",
    "    \n",
    "\n",
    "\n"
   ]
  },
  {
   "cell_type": "code",
   "execution_count": null,
   "metadata": {},
   "outputs": [],
   "source": [
    "a, b = list(map(int, input().split()))\n",
    "\n",
    "\n",
    "while True:\n",
    "    if a == 0:\n",
    "        break\n",
    "    else:\n",
    "        print(\"sum :\", a+b)\n",
    "        print(\"avg :\", (a+b)/2)"
   ]
  },
  {
   "cell_type": "code",
   "execution_count": 5,
   "metadata": {},
   "outputs": [
    {
     "name": "stdout",
     "output_type": "stream",
     "text": [
      "10 15\n",
      "sum : 25\n",
      "avg : 12.5\n",
      "45 0\n"
     ]
    }
   ],
   "source": [
    "while True:\n",
    "    a, b = list(map(int, input().split()))\n",
    "    if a == 0 or b == 0:\n",
    "        break\n",
    "    else:\n",
    "        print(\"sum :\", a+b)\n",
    "        print(\"avg :\", (a+b)/2)"
   ]
  },
  {
   "cell_type": "code",
   "execution_count": null,
   "metadata": {},
   "outputs": [],
   "source": []
  }
 ],
 "metadata": {
  "kernelspec": {
   "display_name": "Python 3",
   "language": "python",
   "name": "python3"
  },
  "language_info": {
   "codemirror_mode": {
    "name": "ipython",
    "version": 3
   },
   "file_extension": ".py",
   "mimetype": "text/x-python",
   "name": "python",
   "nbconvert_exporter": "python",
   "pygments_lexer": "ipython3",
   "version": "3.7.6"
  }
 },
 "nbformat": 4,
 "nbformat_minor": 4
}
