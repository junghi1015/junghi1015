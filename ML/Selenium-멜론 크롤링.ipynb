{
 "cells": [
  {
   "cell_type": "code",
   "execution_count": 10,
   "metadata": {},
   "outputs": [],
   "source": [
    "\n",
    "import time\n",
    "import pandas as pd\n",
    "from selenium import webdriver as wd\n",
    "from tqdm.notebook import tqdm\n",
    "import re\n",
    "\n",
    "driver = wd.Chrome(\"C:\\chromedriver\")#,options=options)\n",
    "url = 'https://www.melon.com/'\n",
    "driver.get(url)\n",
    "time.sleep(1)\n",
    "\n",
    "song = []\n",
    "singer = []\n",
    "image = []\n",
    "\n",
    "#driver.find_element_by_css_selector(\"#gnbLoginDiv > div > button\").click()\n",
    "#driver.find_element_by_css_selector(\"#conts_section > div > div > div:nth-child(2) > button\").click()\n",
    "#driver.find_element_by_css_selector(\"#id\").send_keys(\"junghi1015\")\n",
    "#driver.find_element_by_css_selector(\"#pwd\").send_keys(\"8xrekwbp^^\")\n",
    "#driver.find_element_by_css_selector(\"#btnLogin\").click()\n",
    "\n",
    "\n",
    "driver.find_element_by_css_selector(\"#gnb_menu > ul:nth-child(1) > li.nth1 > a\").click()\n",
    "\n",
    "time.sleep(2)\n",
    "\n",
    "for i in range(1,101):\n",
    "    \n",
    "    songs = driver.find_elements_by_css_selector(\"#frm > div > table > tbody > tr:nth-child(\"+str(i)+\") > td:nth-child(4) > div > div > div.ellipsis.rank01 > span > a\")\n",
    "    \n",
    "    singers = driver.find_elements_by_css_selector(\"#frm > div > table > tbody > tr:nth-child(\"+str(i)+\") > td:nth-child(4) > div > div > div.ellipsis.rank02 > a:nth-child(1)\")\n",
    "    \n",
    "    images = driver.find_elements_by_css_selector(\"#frm > div > table > tbody > tr:nth-child(\"+str(i)+\") > td:nth-child(2) > div > a > img\")\n",
    "    \n",
    "    for i in songs:\n",
    "        \n",
    "        song.append(i.text)\n",
    "        \n",
    "    for i in singers:\n",
    "        \n",
    "        singer.append(i.text)\n",
    "        \n",
    "    for i in images:\n",
    "        \n",
    "        image.append(i.get_attribute('src'))\n",
    "    \n",
    "    \n",
    "    \n",
    "    \n",
    "    \n",
    "    "
   ]
  },
  {
   "cell_type": "code",
   "execution_count": 2,
   "metadata": {
    "scrolled": true
   },
   "outputs": [
    {
     "name": "stdout",
     "output_type": "stream",
     "text": [
      "Requirement already satisfied: selenium in c:\\users\\user\\anaconda3\\lib\\site-packages (3.141.0)\n",
      "Requirement already satisfied: urllib3 in c:\\users\\user\\anaconda3\\lib\\site-packages (from selenium) (1.25.8)\n",
      "Note: you may need to restart the kernel to use updated packages.\n"
     ]
    }
   ],
   "source": [
    "pip install selenium"
   ]
  },
  {
   "cell_type": "code",
   "execution_count": 3,
   "metadata": {
    "scrolled": true
   },
   "outputs": [
    {
     "name": "stdout",
     "output_type": "stream",
     "text": [
      "Requirement already satisfied: tqdm in c:\\users\\user\\anaconda3\\lib\\site-packages (4.42.1)\n",
      "Note: you may need to restart the kernel to use updated packages.\n"
     ]
    }
   ],
   "source": [
    "pip install tqdm"
   ]
  },
  {
   "cell_type": "code",
   "execution_count": 49,
   "metadata": {},
   "outputs": [
    {
     "data": {
      "text/plain": [
       "100"
      ]
     },
     "execution_count": 49,
     "metadata": {},
     "output_type": "execute_result"
    }
   ],
   "source": [
    "len(singer)"
   ]
  },
  {
   "cell_type": "code",
   "execution_count": 51,
   "metadata": {},
   "outputs": [
    {
     "data": {
      "text/html": [
       "<div>\n",
       "<style scoped>\n",
       "    .dataframe tbody tr th:only-of-type {\n",
       "        vertical-align: middle;\n",
       "    }\n",
       "\n",
       "    .dataframe tbody tr th {\n",
       "        vertical-align: top;\n",
       "    }\n",
       "\n",
       "    .dataframe thead th {\n",
       "        text-align: right;\n",
       "    }\n",
       "</style>\n",
       "<table border=\"1\" class=\"dataframe\">\n",
       "  <thead>\n",
       "    <tr style=\"text-align: right;\">\n",
       "      <th></th>\n",
       "      <th>song</th>\n",
       "      <th>singer</th>\n",
       "      <th>image</th>\n",
       "    </tr>\n",
       "  </thead>\n",
       "  <tbody>\n",
       "    <tr>\n",
       "      <th>0</th>\n",
       "      <td>다시 여기 바닷가</td>\n",
       "      <td>싹쓰리 (유두래곤, 린다G, 비룡)</td>\n",
       "      <td>https://cdnimg.melon.co.kr/cm2/album/images/10...</td>\n",
       "    </tr>\n",
       "    <tr>\n",
       "      <th>1</th>\n",
       "      <td>마리아 (Maria)</td>\n",
       "      <td>화사 (Hwa Sa)</td>\n",
       "      <td>https://cdnimg.melon.co.kr/cm2/album/images/10...</td>\n",
       "    </tr>\n",
       "    <tr>\n",
       "      <th>2</th>\n",
       "      <td>How You Like That</td>\n",
       "      <td>BLACKPINK</td>\n",
       "      <td>https://cdnimg.melon.co.kr/cm2/album/images/10...</td>\n",
       "    </tr>\n",
       "    <tr>\n",
       "      <th>3</th>\n",
       "      <td>그 여름을 틀어줘</td>\n",
       "      <td>싹쓰리 (유두래곤, 린다G, 비룡)</td>\n",
       "      <td>https://cdnimg.melon.co.kr/cm2/album/images/10...</td>\n",
       "    </tr>\n",
       "    <tr>\n",
       "      <th>4</th>\n",
       "      <td>Summer Hate (Feat. 비)</td>\n",
       "      <td>지코 (ZICO)</td>\n",
       "      <td>https://cdnimg.melon.co.kr/cm2/album/images/10...</td>\n",
       "    </tr>\n",
       "    <tr>\n",
       "      <th>...</th>\n",
       "      <td>...</td>\n",
       "      <td>...</td>\n",
       "      <td>...</td>\n",
       "    </tr>\n",
       "    <tr>\n",
       "      <th>95</th>\n",
       "      <td>사랑이란 멜로는 없어</td>\n",
       "      <td>전상근</td>\n",
       "      <td>https://cdnimg.melon.co.kr/cm2/album/images/10...</td>\n",
       "    </tr>\n",
       "    <tr>\n",
       "      <th>96</th>\n",
       "      <td>포장마차</td>\n",
       "      <td>황인욱</td>\n",
       "      <td>https://cdnimg.melon.co.kr/cm/album/images/102...</td>\n",
       "    </tr>\n",
       "    <tr>\n",
       "      <th>97</th>\n",
       "      <td>우리 만남이</td>\n",
       "      <td>폴킴</td>\n",
       "      <td>https://cdnimg.melon.co.kr/cm2/album/images/10...</td>\n",
       "    </tr>\n",
       "    <tr>\n",
       "      <th>98</th>\n",
       "      <td>너를 그린 우주 (Insomnia2020) (Feat. 이라온)</td>\n",
       "      <td>마크툽 (MAKTUB)</td>\n",
       "      <td>https://cdnimg.melon.co.kr/cm2/album/images/10...</td>\n",
       "    </tr>\n",
       "    <tr>\n",
       "      <th>99</th>\n",
       "      <td>Happy</td>\n",
       "      <td>태연 (TAEYEON)</td>\n",
       "      <td>https://cdnimg.melon.co.kr/cm2/album/images/10...</td>\n",
       "    </tr>\n",
       "  </tbody>\n",
       "</table>\n",
       "<p>100 rows × 3 columns</p>\n",
       "</div>"
      ],
      "text/plain": [
       "                                   song               singer  \\\n",
       "0                             다시 여기 바닷가  싹쓰리 (유두래곤, 린다G, 비룡)   \n",
       "1                           마리아 (Maria)          화사 (Hwa Sa)   \n",
       "2                     How You Like That            BLACKPINK   \n",
       "3                             그 여름을 틀어줘  싹쓰리 (유두래곤, 린다G, 비룡)   \n",
       "4                 Summer Hate (Feat. 비)            지코 (ZICO)   \n",
       "..                                  ...                  ...   \n",
       "95                          사랑이란 멜로는 없어                  전상근   \n",
       "96                                 포장마차                  황인욱   \n",
       "97                               우리 만남이                   폴킴   \n",
       "98  너를 그린 우주 (Insomnia2020) (Feat. 이라온)         마크툽 (MAKTUB)   \n",
       "99                                Happy         태연 (TAEYEON)   \n",
       "\n",
       "                                                image  \n",
       "0   https://cdnimg.melon.co.kr/cm2/album/images/10...  \n",
       "1   https://cdnimg.melon.co.kr/cm2/album/images/10...  \n",
       "2   https://cdnimg.melon.co.kr/cm2/album/images/10...  \n",
       "3   https://cdnimg.melon.co.kr/cm2/album/images/10...  \n",
       "4   https://cdnimg.melon.co.kr/cm2/album/images/10...  \n",
       "..                                                ...  \n",
       "95  https://cdnimg.melon.co.kr/cm2/album/images/10...  \n",
       "96  https://cdnimg.melon.co.kr/cm/album/images/102...  \n",
       "97  https://cdnimg.melon.co.kr/cm2/album/images/10...  \n",
       "98  https://cdnimg.melon.co.kr/cm2/album/images/10...  \n",
       "99  https://cdnimg.melon.co.kr/cm2/album/images/10...  \n",
       "\n",
       "[100 rows x 3 columns]"
      ]
     },
     "execution_count": 51,
     "metadata": {},
     "output_type": "execute_result"
    }
   ],
   "source": [
    "data = pd.DataFrame([song, singer, image])\n",
    "data = data.T\n",
    "data.columns = (['song', 'singer', 'image'])\n",
    "data"
   ]
  },
  {
   "cell_type": "code",
   "execution_count": 44,
   "metadata": {},
   "outputs": [
    {
     "data": {
      "text/plain": [
       "105"
      ]
     },
     "execution_count": 44,
     "metadata": {},
     "output_type": "execute_result"
    }
   ],
   "source": [
    "#frm > div > table > tbody > tr:nth-child(38) > td:nth-child(4) > div > div > div.ellipsis.rank02 > a:nth-child(1)\n",
    "#frm > div > table > tbody > tr:nth-child(38) > td:nth-child(4) > div > div > div.ellipsis.rank02 > a:nth-child(4)"
   ]
  },
  {
   "cell_type": "code",
   "execution_count": 38,
   "metadata": {},
   "outputs": [
    {
     "data": {
      "text/plain": [
       "['https://cdnimg.melon.co.kr/cm2/album/images/104/62/799/10462799_20200717150822_500.jpg/melon/resize/120/quality/80/optimize',\n",
       " 'https://cdnimg.melon.co.kr/cm2/album/images/104/52/351/10452351_20200629152036_500.jpg/melon/resize/120/quality/80/optimize',\n",
       " 'https://cdnimg.melon.co.kr/cm2/album/images/104/51/566/10451566_20200626114914_500.jpg/melon/resize/120/quality/80/optimize',\n",
       " 'https://cdnimg.melon.co.kr/cm2/album/images/104/67/129/10467129_20200724181802_500.jpg/melon/resize/120/quality/80/optimize',\n",
       " 'https://cdnimg.melon.co.kr/cm2/album/images/104/53/701/10453701_20200701151802_500.jpg/melon/resize/120/quality/80/optimize',\n",
       " 'https://cdnimg.melon.co.kr/cm2/album/images/104/59/197/10459197_20200720141408_500.jpg/melon/resize/120/quality/80/optimize',\n",
       " 'https://cdnimg.melon.co.kr/cm/album/images/101/17/789/10117789_500.jpg/melon/resize/120/quality/80/optimize',\n",
       " 'https://cdnimg.melon.co.kr/cm2/album/images/104/26/648/10426648_20200506153340_500.jpg/melon/resize/120/quality/80/optimize',\n",
       " 'https://cdnimg.melon.co.kr/cm2/album/images/104/65/994/10465994_20200723160043_500.jpg/melon/resize/120/quality/80/optimize',\n",
       " 'https://cdnimg.melon.co.kr/cm2/album/images/104/09/054/10409054_20200326163459_500.jpg/melon/resize/120/quality/80/optimize',\n",
       " 'https://cdnimg.melon.co.kr/cm2/album/images/104/52/354/10452354_20200629152048_500.jpg/melon/resize/120/quality/80/optimize',\n",
       " 'https://cdnimg.melon.co.kr/cm2/album/images/104/23/289/10423289_20200427153909_500.jpg/melon/resize/120/quality/80/optimize',\n",
       " 'https://cdnimg.melon.co.kr/cm2/album/images/104/23/289/10423289_20200427153909_500.jpg/melon/resize/120/quality/80/optimize',\n",
       " 'https://cdnimg.melon.co.kr/cm2/album/images/104/33/754/10433754_20200521162928_500.jpg/melon/resize/120/quality/80/optimize',\n",
       " 'https://cdnimg.melon.co.kr/cm2/album/images/103/16/394/10316394_500.jpg/melon/resize/120/quality/80/optimize',\n",
       " 'https://cdnimg.melon.co.kr/cm2/album/images/104/47/670/10447670_20200619160619_500.jpg/melon/resize/120/quality/80/optimize',\n",
       " 'https://cdnimg.melon.co.kr/cm2/album/images/103/99/190/10399190_20200305151138_500.jpg/melon/resize/120/quality/80/optimize',\n",
       " 'https://cdnimg.melon.co.kr/cm2/album/images/103/30/593/10330593_500.jpg/melon/resize/120/quality/80/optimize',\n",
       " 'https://cdnimg.melon.co.kr/cm2/album/images/103/59/162/10359162_500.jpg/melon/resize/120/quality/80/optimize',\n",
       " 'https://cdnimg.melon.co.kr/cm2/album/images/104/37/786/10437786_20200601141555_500.jpg/melon/resize/120/quality/80/optimize',\n",
       " 'https://cdnimg.melon.co.kr/cm2/album/images/103/45/880/10345880_20200326181909_500.jpg/melon/resize/120/quality/80/optimize',\n",
       " 'https://cdnimg.melon.co.kr/cm2/album/images/103/20/500/10320500_500.jpg/melon/resize/120/quality/80/optimize',\n",
       " 'https://cdnimg.melon.co.kr/cm2/album/images/103/46/650/10346650_500.jpg/melon/resize/120/quality/80/optimize',\n",
       " 'https://cdnimg.melon.co.kr/cm2/album/images/103/75/118/10375118_20200113150502_500.jpg/melon/resize/120/quality/80/optimize',\n",
       " 'https://cdnimg.melon.co.kr/cm2/album/images/104/56/112/10456112_20200706152509_500.jpg/melon/resize/120/quality/80/optimize',\n",
       " 'https://cdnimg.melon.co.kr/cm2/album/images/104/08/131/10408131_20200325151939_500.jpg/melon/resize/120/quality/80/optimize',\n",
       " 'https://cdnimg.melon.co.kr/cm2/album/images/104/56/137/10456137_20200706153246_500.jpg/melon/resize/120/quality/80/optimize',\n",
       " 'https://cdnimg.melon.co.kr/cm2/album/images/104/27/559/10427559_20200513160836_500.jpg/melon/resize/120/quality/80/optimize',\n",
       " 'https://cdnimg.melon.co.kr/cm2/album/images/104/05/712/10405712_20200320102711_500.jpg/melon/resize/120/quality/80/optimize',\n",
       " 'https://cdnimg.melon.co.kr/cm2/album/images/103/81/712/10381712_20200131110358_500.jpg/melon/resize/120/quality/80/optimize',\n",
       " 'https://cdnimg.melon.co.kr/cm2/album/images/103/31/947/10331947_500.jpg/melon/resize/120/quality/80/optimize',\n",
       " 'https://cdnimg.melon.co.kr/cm/album/images/101/37/250/10137250_500.jpg/melon/resize/120/quality/80/optimize',\n",
       " 'https://cdnimg.melon.co.kr/cm2/album/images/103/48/811/10348811_500.jpg/melon/resize/120/quality/80/optimize',\n",
       " 'https://cdnimg.melon.co.kr/cm2/album/images/103/88/744/10388744_20200214175740_500.jpg/melon/resize/120/quality/80/optimize',\n",
       " 'https://cdnimg.melon.co.kr/cm/album/images/102/94/603/10294603_500.jpg/melon/resize/120/quality/80/optimize',\n",
       " 'https://cdnimg.melon.co.kr/cm/album/images/102/73/641/10273641_500.jpg/melon/resize/120/quality/80/optimize',\n",
       " 'https://cdnimg.melon.co.kr/cm/album/images/101/49/492/10149492_500.jpg/melon/resize/120/quality/80/optimize',\n",
       " 'https://cdnimg.melon.co.kr/cm2/album/images/104/39/549/10439549_20200604115329_500.jpg/melon/resize/120/quality/80/optimize',\n",
       " 'https://cdnimg.melon.co.kr/cm2/album/images/104/40/381/10440381_20200605161232_500.jpg/melon/resize/120/quality/80/optimize',\n",
       " 'https://cdnimg.melon.co.kr/cm2/album/images/103/68/053/10368053_20191223155246_500.jpg/melon/resize/120/quality/80/optimize',\n",
       " 'https://cdnimg.melon.co.kr/cm2/album/images/103/77/346/10377346_20200221153622_500.jpg/melon/resize/120/quality/80/optimize',\n",
       " 'https://cdnimg.melon.co.kr/cm2/album/images/103/43/276/10343276_500.jpg/melon/resize/120/quality/80/optimize',\n",
       " 'https://cdnimg.melon.co.kr/cm2/album/images/104/12/335/10412335_20200403104545_500.jpg/melon/resize/120/quality/80/optimize',\n",
       " 'https://cdnimg.melon.co.kr/cm2/album/images/104/63/600/10463600_20200720152905_500.jpg/melon/resize/120/quality/80/optimize',\n",
       " 'https://cdnimg.melon.co.kr/cm2/album/images/103/53/881/10353881_500.jpg/melon/resize/120/quality/80/optimize',\n",
       " 'https://cdnimg.melon.co.kr/cm2/album/images/104/36/942/10436942_20200528174019_500.jpg/melon/resize/120/quality/80/optimize',\n",
       " 'https://cdnimg.melon.co.kr/cm2/album/images/104/12/319/10412319_20200403103006_500.jpg/melon/resize/120/quality/80/optimize',\n",
       " 'https://cdnimg.melon.co.kr/cm2/album/images/104/44/798/10444798_20200615163827_500.jpg/melon/resize/120/quality/80/optimize',\n",
       " 'https://cdnimg.melon.co.kr/cm2/album/images/104/16/723/10416723_20200413150943_500.jpg/melon/resize/120/quality/80/optimize',\n",
       " 'https://cdnimg.melon.co.kr/cm2/album/images/103/88/581/10388581_20200214160016_500.jpg/melon/resize/120/quality/80/optimize',\n",
       " 'https://cdnimg.melon.co.kr/cm2/album/images/103/17/137/10317137_500.jpg/melon/resize/120/quality/80/optimize',\n",
       " 'https://cdnimg.melon.co.kr/cm/album/images/102/09/752/10209752_500.jpg/melon/resize/120/quality/80/optimize',\n",
       " 'https://cdnimg.melon.co.kr/cm2/album/images/104/40/301/10440301_20200605151837_500.jpg/melon/resize/120/quality/80/optimize',\n",
       " 'https://cdnimg.melon.co.kr/cm2/album/images/104/53/772/10453772_20200701154237_500.jpg/melon/resize/120/quality/80/optimize',\n",
       " 'https://cdnimg.melon.co.kr/cm2/album/images/103/85/262/10385262_20200206141416_500.jpg/melon/resize/120/quality/80/optimize',\n",
       " 'https://cdnimg.melon.co.kr/cm2/album/images/104/34/085/10434085_20200522112314_500.jpg/melon/resize/120/quality/80/optimize',\n",
       " 'https://cdnimg.melon.co.kr/cm2/album/images/104/47/505/10447505_20200622163157_500.jpg/melon/resize/120/quality/80/optimize',\n",
       " 'https://cdnimg.melon.co.kr/cm2/album/images/103/89/281/10389281_20200217162236_500.jpg/melon/resize/120/quality/80/optimize',\n",
       " 'https://cdnimg.melon.co.kr/cm2/album/images/103/59/204/10359204_500.jpg/melon/resize/120/quality/80/optimize',\n",
       " 'https://cdnimg.melon.co.kr/cm2/album/images/104/59/255/10459255_20200710162103_500.jpg/melon/resize/120/quality/80/optimize',\n",
       " 'https://cdnimg.melon.co.kr/cm2/album/images/104/15/229/10415229_20200409150906_500.jpg/melon/resize/120/quality/80/optimize',\n",
       " 'https://cdnimg.melon.co.kr/cm2/album/images/104/23/707/10423707_20200428120752_500.jpg/melon/resize/120/quality/80/optimize',\n",
       " 'https://cdnimg.melon.co.kr/cm/album/images/026/92/501/2692501_500.jpg/melon/resize/120/quality/80/optimize',\n",
       " 'https://cdnimg.melon.co.kr/cm2/album/images/103/46/650/10346650_500.jpg/melon/resize/120/quality/80/optimize',\n",
       " 'https://cdnimg.melon.co.kr/cm2/album/images/103/72/655/10372655_20200107151231_500.jpg/melon/resize/120/quality/80/optimize',\n",
       " 'https://cdnimg.melon.co.kr/cm2/album/images/104/58/463/10458463_20200709151132_500.jpg/melon/resize/120/quality/80/optimize',\n",
       " 'https://cdnimg.melon.co.kr/cm2/album/images/104/34/955/10434955_20200525154009_500.jpg/melon/resize/120/quality/80/optimize',\n",
       " 'https://cdnimg.melon.co.kr/cm/album/images/100/37/969/10037969_500.jpg/melon/resize/120/quality/80/optimize',\n",
       " 'https://cdnimg.melon.co.kr/cm2/album/images/104/65/041/10465041_20200722143707_500.jpg/melon/resize/120/quality/80/optimize',\n",
       " 'https://cdnimg.melon.co.kr/cm/album/images/102/79/656/10279656_500.jpg/melon/resize/120/quality/80/optimize',\n",
       " 'https://cdnimg.melon.co.kr/cm2/album/images/104/00/522/10400522_20200309153009_500.jpg/melon/resize/120/quality/80/optimize',\n",
       " 'https://cdnimg.melon.co.kr/cm2/album/images/103/77/346/10377346_20200221153622_500.jpg/melon/resize/120/quality/80/optimize',\n",
       " 'https://cdnimg.melon.co.kr/cm2/album/images/104/60/515/10460515_20200714145650_500.jpg/melon/resize/120/quality/80/optimize',\n",
       " 'https://cdnimg.melon.co.kr/cm2/album/images/104/60/544/10460544_20200714151651_500.jpg/melon/resize/120/quality/80/optimize',\n",
       " 'https://cdnimg.melon.co.kr/cm2/album/images/104/28/037/10428037_20200508132512_500.jpg/melon/resize/120/quality/80/optimize',\n",
       " 'https://cdnimg.melon.co.kr/cm2/album/images/103/77/346/10377346_20200221153622_500.jpg/melon/resize/120/quality/80/optimize',\n",
       " 'https://cdnimg.melon.co.kr/cm2/album/images/103/91/899/10391899_20200221103027_500.jpg/melon/resize/120/quality/80/optimize',\n",
       " 'https://cdnimg.melon.co.kr/cm/album/images/102/67/565/10267565_500.jpg/melon/resize/120/quality/80/optimize',\n",
       " 'https://cdnimg.melon.co.kr/cm2/album/images/103/51/886/10351886_500.jpg/melon/resize/120/quality/80/optimize',\n",
       " 'https://cdnimg.melon.co.kr/cm/album/images/102/17/134/10217134_500.jpg/melon/resize/120/quality/80/optimize',\n",
       " 'https://cdnimg.melon.co.kr/cm2/album/images/103/77/346/10377346_20200221153622_500.jpg/melon/resize/120/quality/80/optimize',\n",
       " 'https://cdnimg.melon.co.kr/cm2/album/images/104/02/513/10402513_20200313112215_500.jpg/melon/resize/120/quality/80/optimize',\n",
       " 'https://cdnimg.melon.co.kr/cm2/album/images/103/87/838/10387838_20200213114909_500.jpg/melon/resize/120/quality/80/optimize',\n",
       " 'https://cdnimg.melon.co.kr/cm2/album/images/104/54/538/10454538_20200702150451_500.jpg/melon/resize/120/quality/80/optimize',\n",
       " 'https://cdnimg.melon.co.kr/cm/album/images/102/35/362/10235362_500.jpg/melon/resize/120/quality/80/optimize',\n",
       " 'https://cdnimg.melon.co.kr/cm2/album/images/104/67/527/10467527_20200727152147_500.jpg/melon/resize/120/quality/80/optimize',\n",
       " 'https://cdnimg.melon.co.kr/cm/album/images/102/67/986/10267986_500.jpg/melon/resize/120/quality/80/optimize',\n",
       " 'https://cdnimg.melon.co.kr/cm2/album/images/104/60/739/10460739_20200714174642_500.jpg/melon/resize/120/quality/80/optimize',\n",
       " 'https://cdnimg.melon.co.kr/cm2/album/images/103/77/157/10377157_20200117113740_500.jpg/melon/resize/120/quality/80/optimize',\n",
       " 'https://cdnimg.melon.co.kr/cm/album/images/102/14/084/10214084_500.jpg/melon/resize/120/quality/80/optimize',\n",
       " 'https://cdnimg.melon.co.kr/cm2/album/images/104/59/845/10459845_20200713152520_500.jpg/melon/resize/120/quality/80/optimize',\n",
       " 'https://cdnimg.melon.co.kr/cm2/album/images/104/58/326/10458326_20200713155731_500.jpg/melon/resize/120/quality/80/optimize',\n",
       " 'https://cdnimg.melon.co.kr/cm2/album/images/103/31/499/10331499_500.jpg/melon/resize/120/quality/80/optimize',\n",
       " 'https://cdnimg.melon.co.kr/cm2/album/images/103/77/346/10377346_20200221153622_500.jpg/melon/resize/120/quality/80/optimize',\n",
       " 'https://cdnimg.melon.co.kr/cm2/album/images/103/77/346/10377346_20200221153622_500.jpg/melon/resize/120/quality/80/optimize',\n",
       " 'https://cdnimg.melon.co.kr/cm2/album/images/103/26/710/10326710_500.jpg/melon/resize/120/quality/80/optimize',\n",
       " 'https://cdnimg.melon.co.kr/cm/album/images/102/98/014/10298014_500.jpg/melon/resize/120/quality/80/optimize',\n",
       " 'https://cdnimg.melon.co.kr/cm2/album/images/104/21/264/10421264_20200422152215_500.jpg/melon/resize/120/quality/80/optimize',\n",
       " 'https://cdnimg.melon.co.kr/cm2/album/images/104/22/586/10422586_20200424153114_500.jpg/melon/resize/120/quality/80/optimize',\n",
       " 'https://cdnimg.melon.co.kr/cm2/album/images/104/25/647/10425647_20200504145352_500.jpg/melon/resize/120/quality/80/optimize']"
      ]
     },
     "execution_count": 38,
     "metadata": {},
     "output_type": "execute_result"
    }
   ],
   "source": [
    "image"
   ]
  },
  {
   "cell_type": "code",
   "execution_count": 7,
   "metadata": {},
   "outputs": [],
   "source": [
    "time.sleep(1)"
   ]
  },
  {
   "cell_type": "code",
   "execution_count": 8,
   "metadata": {},
   "outputs": [],
   "source": [
    "song = []\n",
    "singer = []\n",
    "image = []\n"
   ]
  },
  {
   "cell_type": "code",
   "execution_count": null,
   "metadata": {},
   "outputs": [],
   "source": [
    "\n"
   ]
  },
  {
   "cell_type": "code",
   "execution_count": 12,
   "metadata": {},
   "outputs": [
    {
     "name": "stdout",
     "output_type": "stream",
     "text": [
      "3\n"
     ]
    }
   ],
   "source": [
    "melon_cnt = 0\n",
    "for i in song:\n",
    "    for x in i:\n",
    "        if x == \"와\":\n",
    "            melon_cnt += 1\n",
    "            \n",
    "print(melon_cnt)"
   ]
  },
  {
   "cell_type": "code",
   "execution_count": null,
   "metadata": {},
   "outputs": [],
   "source": [
    "data = pd.DataFrame()"
   ]
  },
  {
   "cell_type": "code",
   "execution_count": null,
   "metadata": {},
   "outputs": [],
   "source": []
  },
  {
   "cell_type": "code",
   "execution_count": null,
   "metadata": {},
   "outputs": [],
   "source": []
  },
  {
   "cell_type": "code",
   "execution_count": null,
   "metadata": {},
   "outputs": [],
   "source": []
  },
  {
   "cell_type": "code",
   "execution_count": null,
   "metadata": {},
   "outputs": [],
   "source": []
  },
  {
   "cell_type": "code",
   "execution_count": null,
   "metadata": {},
   "outputs": [],
   "source": []
  },
  {
   "cell_type": "code",
   "execution_count": null,
   "metadata": {},
   "outputs": [],
   "source": [
    "login1 = driver.find_element_by_css_selector(\"#gnbLoginDiv > div > button\").click()\n",
    "login2 = driver.find_element_by_css_selector(\"#conts_section > div > div > div:nth-child(2) > button\").click()\n",
    "\n",
    "inputid = driver.find_element_by_css_selector(\"#id\").send_keys(\"ksw5373\")\n",
    "inputpw = driver.find_element_by_css_selector(\"#pwd\").send_keys(\"melonpassword1\")\n",
    "inputid = driver.find_element_by_css_selector(\"#btnLogin\").click()\n",
    "time.sleep(0.5)\n",
    "\n",
    "chart = driver.find_element_by_css_selector(\"#gnb_menu > ul:nth-child(1) > li.nth1 > a\").click\n",
    "\n",
    "time.sleep(1)\n",
    "\n",
    "for p in tqdm(range(1,101),desc='top100'):\n",
    "    \n",
    "    songs = driver.find_elements_by_css_selector(\"tr:nth-child(\"+str(p)+\") > td:nth-child(4) > div > div > div.ellipsis.rank01 > span > a\")\n",
    "\n",
    "    singers = driver.find_elements_by_css_selector(\" tr:nth-child(\"+str(p)+\") > td:nth-child(4) > div > div > div.ellipsis.rank02 > a:nth-child(1)\")\n",
    "    \n",
    "    images = driver.find_elements_by_css_selector(\"tr:nth-child(\"+str(p)+\") > td:nth-child(2) > div > a >img\")\n",
    "    \n",
    "    for i in songs:\n",
    "        song.append(i.text)\n",
    "    for i in singers:\n",
    "        singer.append(i.text)\n",
    "    image.append(images[0].get_attribute('src'))"
   ]
  },
  {
   "cell_type": "code",
   "execution_count": null,
   "metadata": {},
   "outputs": [],
   "source": []
  },
  {
   "cell_type": "code",
   "execution_count": null,
   "metadata": {},
   "outputs": [],
   "source": []
  }
 ],
 "metadata": {
  "kernelspec": {
   "display_name": "Python 3",
   "language": "python",
   "name": "python3"
  },
  "language_info": {
   "codemirror_mode": {
    "name": "ipython",
    "version": 3
   },
   "file_extension": ".py",
   "mimetype": "text/x-python",
   "name": "python",
   "nbconvert_exporter": "python",
   "pygments_lexer": "ipython3",
   "version": "3.7.6"
  }
 },
 "nbformat": 4,
 "nbformat_minor": 4
}
