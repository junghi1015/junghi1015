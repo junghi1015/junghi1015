{
 "cells": [
  {
   "cell_type": "code",
   "execution_count": 2,
   "metadata": {
    "scrolled": true
   },
   "outputs": [
    {
     "name": "stdout",
     "output_type": "stream",
     "text": [
      "1페이지의 이미지50장을 추출했습니다.\n",
      "2페이지의 이미지50장을 추출했습니다.\n",
      "3페이지의 이미지50장을 추출했습니다.\n",
      "4페이지의 이미지50장을 추출했습니다.\n",
      "웹 크롤링이 완료되었습니다.\n",
      "이미지 저장 중입니다.\n",
      "이미지 저장이 완료되었습니다.\n"
     ]
    }
   ],
   "source": [
    "import time\n",
    "import pandas as pd\n",
    "from selenium import webdriver as wd\n",
    "from tqdm.notebook import tqdm\n",
    "import re\n",
    "\n",
    "driver = wd.Chrome(\"C:\\chromedriver\")#,options=options)\n",
    "url = 'http://www.health.kr/searchIdentity/search.asp'\n",
    "driver.get(url)\n",
    "time.sleep(1)\n",
    "                                \n",
    "driver.find_element_by_xpath('//*[@id=\"btn_idfysearch\"]').click()\n",
    "time.sleep(0.5)\n",
    "\n",
    "image = []\n",
    "page = 1\n",
    "\n",
    "\n",
    "while page < 5:\n",
    "\n",
    "    item_cnt = driver.find_elements_by_xpath('/html/body/div/section/section/section/article[2]/article/table[1]/tbody/tr')\n",
    "    \n",
    "    for i in range(len(item_cnt)-2):\n",
    "\n",
    "        images = driver.find_element_by_css_selector(\"#idfytotal0 > tbody > tr:nth-child(\"+str(i+3)+\") > td.img > div > a > img\")\n",
    "        image.append(images.get_attribute('src'))\n",
    "#         for j in images:\n",
    "#                 count += 1\n",
    "#                 j.screenshot(f'C:/Users/user/img/{count}.jpg')\n",
    "    \n",
    "    print('{0}페이지의 이미지{1}장을 추출했습니다.'.format(page,len(item_cnt)-2))\n",
    "    driver.find_element_by_xpath('//*[@id=\"paging\"]/a[3]').click()        \n",
    "    page += 1\n",
    "        \n",
    "    \n",
    "print('웹 크롤링이 완료되었습니다.')\n",
    "print('이미지 저장 중입니다.')\n",
    "\n",
    "import urllib.request\n",
    "\n",
    "count = 0\n",
    "for j in image:\n",
    "    count += 1\n",
    "    urllib.request.urlretrieve(j, './img/'+str(count)+'.jpg')\n",
    "    \n",
    "print('이미지 저장이 완료되었습니다.')"
   ]
  },
  {
   "cell_type": "code",
   "execution_count": null,
   "metadata": {},
   "outputs": [],
   "source": [
    "print('이미지 저장 중입니다.')\n",
    "\n",
    "import urllib.request\n",
    "\n",
    "count = 0\n",
    "for j in image:\n",
    "    count += 1\n",
    "    urllib.request.urlretrieve(j, './img/'+str(count)+'.jpg')\n",
    "    \n",
    "print('이미지 저장이 완료되었습니다.')"
   ]
  },
  {
   "cell_type": "code",
   "execution_count": 78,
   "metadata": {},
   "outputs": [
    {
     "name": "stdout",
     "output_type": "stream",
     "text": [
      "52\n"
     ]
    }
   ],
   "source": [
    "import time\n",
    "import pandas as pd\n",
    "from selenium import webdriver as wd\n",
    "from tqdm.notebook import tqdm\n",
    "import re\n",
    "\n",
    "driver = wd.Chrome(\"C:\\chromedriver\")#,options=options)\n",
    "url = 'http://www.health.kr/searchIdentity/search.asp'\n",
    "driver.get(url)\n",
    "time.sleep(1)\n",
    "                                \n",
    "driver.find_element_by_xpath('//*[@id=\"btn_idfysearch\"]').click()\n",
    "time.sleep(0.5)\n",
    "\n",
    "image = []\n",
    "page = 1\n",
    "\n",
    "item_cnt = driver.find_elements_by_xpath('/html/body/div/section/section/section/article[2]/article/table[1]/tbody/tr')\n",
    "print(len(item_cnt))                   "
   ]
  },
  {
   "cell_type": "code",
   "execution_count": null,
   "metadata": {},
   "outputs": [],
   "source": []
  },
  {
   "cell_type": "code",
   "execution_count": null,
   "metadata": {},
   "outputs": [],
   "source": []
  },
  {
   "cell_type": "code",
   "execution_count": null,
   "metadata": {},
   "outputs": [],
   "source": []
  },
  {
   "cell_type": "code",
   "execution_count": null,
   "metadata": {},
   "outputs": [],
   "source": []
  },
  {
   "cell_type": "code",
   "execution_count": null,
   "metadata": {},
   "outputs": [],
   "source": []
  },
  {
   "cell_type": "code",
   "execution_count": null,
   "metadata": {},
   "outputs": [],
   "source": []
  },
  {
   "cell_type": "code",
   "execution_count": null,
   "metadata": {},
   "outputs": [],
   "source": []
  },
  {
   "cell_type": "code",
   "execution_count": null,
   "metadata": {},
   "outputs": [],
   "source": []
  }
 ],
 "metadata": {
  "kernelspec": {
   "display_name": "Python 3",
   "language": "python",
   "name": "python3"
  },
  "language_info": {
   "codemirror_mode": {
    "name": "ipython",
    "version": 3
   },
   "file_extension": ".py",
   "mimetype": "text/x-python",
   "name": "python",
   "nbconvert_exporter": "python",
   "pygments_lexer": "ipython3",
   "version": "3.7.6"
  }
 },
 "nbformat": 4,
 "nbformat_minor": 4
}
