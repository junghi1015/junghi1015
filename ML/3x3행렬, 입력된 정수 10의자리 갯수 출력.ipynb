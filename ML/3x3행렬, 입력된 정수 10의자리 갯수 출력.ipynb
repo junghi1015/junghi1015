{
 "cells": [
  {
   "cell_type": "code",
   "execution_count": null,
   "metadata": {},
   "outputs": [],
   "source": [
    "자연수 n을 입력받아 \"출력 예\"와 같이 n x n크기에 공백으로 구분하여 출력되는 프로그램을 작성하시오.\n",
    "10 미만의 홀수만 출력하시오.주의! 숫자는 공백으로 구분하되 줄사이에 빈줄은 없다.\n",
    "\n",
    "1 3 5\n",
    "7 9 1\n",
    "3 5 7\n"
   ]
  },
  {
   "cell_type": "code",
   "execution_count": 80,
   "metadata": {},
   "outputs": [
    {
     "name": "stdout",
     "output_type": "stream",
     "text": [
      "3\n",
      "1 3 5 \n",
      "7 9 1 \n",
      "3 5 7 \n"
     ]
    }
   ],
   "source": [
    "\n",
    "n = int(input())\n",
    "z = 1\n",
    "\n",
    "for k in range(n):\n",
    "    \n",
    "    for i in range(n):\n",
    "        \n",
    "        z %= 10\n",
    "        print(z, end = ' ')\n",
    "        z += 2\n",
    "\n",
    "        \n",
    "    print()\n"
   ]
  },
  {
   "cell_type": "code",
   "execution_count": 81,
   "metadata": {},
   "outputs": [
    {
     "name": "stdout",
     "output_type": "stream",
     "text": [
      "3\n",
      "1 3 5 \n",
      "7 9 1 \n",
      "3 5 7 \n"
     ]
    }
   ],
   "source": [
    "\n",
    "n = int(input())\n",
    "z = 1\n",
    "\n",
    "for k in range(n):\n",
    "    \n",
    "    for i in range(n):\n",
    "        \n",
    "        if z < 10:\n",
    "     \n",
    "            print(z, end = ' ')\n",
    "            z += 2\n",
    "            \n",
    "        elif z >= 10:\n",
    "            \n",
    "            z = 1\n",
    "            print(z, end = ' ')\n",
    "            z += 2\n",
    "\n",
    "        \n",
    "    print()\n"
   ]
  },
  {
   "cell_type": "code",
   "execution_count": 37,
   "metadata": {},
   "outputs": [
    {
     "name": "stdout",
     "output_type": "stream",
     "text": [
      "[1, 2, 3, 1, 2]\n"
     ]
    }
   ],
   "source": [
    "a = [1,2,3]\n",
    "\n",
    "b = [1,2]\n",
    "\n",
    "print(a + b)"
   ]
  },
  {
   "cell_type": "code",
   "execution_count": 28,
   "metadata": {},
   "outputs": [
    {
     "name": "stdout",
     "output_type": "stream",
     "text": [
      "3\n",
      "99 65 30\n",
      "64.67\n"
     ]
    }
   ],
   "source": [
    "a = int(input())\n",
    "\n",
    "b = list(map(int, input().split()))\n",
    "\n",
    "if len(b) == a:\n",
    "    print(round(sum(b)/len(b) , 2))"
   ]
  },
  {
   "cell_type": "code",
   "execution_count": 49,
   "metadata": {},
   "outputs": [
    {
     "data": {
      "text/plain": [
       "0"
      ]
     },
     "execution_count": 49,
     "metadata": {},
     "output_type": "execute_result"
    }
   ],
   "source": []
  },
  {
   "cell_type": "code",
   "execution_count": null,
   "metadata": {},
   "outputs": [],
   "source": [
    "100 미만의 양의 정수들이 주어진다. \n",
    "\n",
    "입력받다가 0 이 입력되면 마지막에 입력된 0 을 제외하고 \n",
    "\n",
    "그 때까지 입력된 정수의 십의 자리 숫자가 각각 몇 개인지 \n",
    "\n",
    "작은 수부터 출력하는 프로그램을 작성하시오. (0개인 숫자는 출력하지 않는다.)"
   ]
  },
  {
   "cell_type": "code",
   "execution_count": 61,
   "metadata": {},
   "outputs": [
    {
     "name": "stdout",
     "output_type": "stream",
     "text": [
      "89\n",
      "45\n",
      "16\n",
      "2\n",
      "4\n",
      "71\n",
      "65\n",
      "94\n",
      "3\n",
      "10\n",
      "0\n",
      "0 : 3\n",
      "1 : 2\n",
      "4 : 1\n",
      "6 : 1\n",
      "7 : 1\n",
      "8 : 1\n",
      "9 : 1\n"
     ]
    }
   ],
   "source": [
    "result = []\n",
    "result2 = []\n",
    "\n",
    "while True:\n",
    "    \n",
    "    a = int(input())\n",
    "    \n",
    "    if a != 0:\n",
    "        result.append(a)\n",
    "        \n",
    "    elif a == 0:\n",
    "        break\n",
    "\n",
    "result.sort()\n",
    "        \n",
    "for i in result:\n",
    "    \n",
    "    if i >= 10:\n",
    "        \n",
    "        result2.append(i // 10)\n",
    "        \n",
    "    elif i < 10:\n",
    "        \n",
    "        result2.append(0)\n",
    "\n",
    "for i in range(10):\n",
    "    \n",
    "    if result2.count(i) >= 1:\n",
    "        \n",
    "        print(str(i) + \" : \" + str(result2.count(i)))\n",
    "    \n"
   ]
  },
  {
   "cell_type": "code",
   "execution_count": 57,
   "metadata": {},
   "outputs": [
    {
     "name": "stdout",
     "output_type": "stream",
     "text": [
      "[0, 1, 5, 5, 6, 6, 8]\n"
     ]
    }
   ],
   "source": [
    "print(result2)"
   ]
  },
  {
   "cell_type": "code",
   "execution_count": 54,
   "metadata": {},
   "outputs": [
    {
     "data": {
      "text/plain": [
       "9"
      ]
     },
     "execution_count": 54,
     "metadata": {},
     "output_type": "execute_result"
    }
   ],
   "source": [
    "10 55 3 63 85 61 85 0"
   ]
  },
  {
   "cell_type": "code",
   "execution_count": null,
   "metadata": {},
   "outputs": [],
   "source": []
  },
  {
   "cell_type": "code",
   "execution_count": null,
   "metadata": {},
   "outputs": [],
   "source": []
  }
 ],
 "metadata": {
  "kernelspec": {
   "display_name": "Python 3",
   "language": "python",
   "name": "python3"
  },
  "language_info": {
   "codemirror_mode": {
    "name": "ipython",
    "version": 3
   },
   "file_extension": ".py",
   "mimetype": "text/x-python",
   "name": "python",
   "nbconvert_exporter": "python",
   "pygments_lexer": "ipython3",
   "version": "3.7.6"
  }
 },
 "nbformat": 4,
 "nbformat_minor": 4
}
