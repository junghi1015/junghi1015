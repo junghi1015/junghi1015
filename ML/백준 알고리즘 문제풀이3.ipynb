{
 "cells": [
  {
   "cell_type": "code",
   "execution_count": null,
   "metadata": {},
   "outputs": [],
   "source": [
    "2행 4열의 배열 두 개를 만들어서 입력을 받고 두 배열의 곱을 구하여 출력하는 프로그램을 작성하시오.\n",
    "\n",
    "first array\n",
    "1 2 3 4\n",
    "5 6 7 8\n",
    "second array\n",
    "1 4 7 8\n",
    "3 6 9 8\n",
    "\n",
    "1 8 21 32\n",
    "15 36 63 64\n",
    "\n"
   ]
  },
  {
   "cell_type": "code",
   "execution_count": 31,
   "metadata": {},
   "outputs": [
    {
     "name": "stdout",
     "output_type": "stream",
     "text": [
      "1 2 3 4\n",
      "5 6 7 8\n",
      "1 4 7 8\n",
      "3 6 9 8\n",
      "1 8 21 32 \n",
      "15 36 63 64 \n"
     ]
    }
   ],
   "source": [
    "result = []\n",
    "result2 = []\n",
    "\n",
    "for i in range(4):\n",
    "    a = list(map(int,input().split()))\n",
    "    if i < 2:\n",
    "        result.append(a)\n",
    "        \n",
    "    elif i >= 2:\n",
    "        result2.append(a)\n",
    "\n",
    "for j in range(2):\n",
    "    for k in range(4): \n",
    "        print(result[j][k]*result2[j][k], end=' ')\n",
    "    print()"
   ]
  },
  {
   "cell_type": "code",
   "execution_count": 28,
   "metadata": {},
   "outputs": [
    {
     "data": {
      "text/plain": [
       "1"
      ]
     },
     "execution_count": 28,
     "metadata": {},
     "output_type": "execute_result"
    }
   ],
   "source": [
    "result[0][0]"
   ]
  },
  {
   "cell_type": "code",
   "execution_count": 25,
   "metadata": {},
   "outputs": [
    {
     "data": {
      "text/plain": [
       "4"
      ]
     },
     "execution_count": 25,
     "metadata": {},
     "output_type": "execute_result"
    }
   ],
   "source": [
    "len(result2[0])"
   ]
  },
  {
   "cell_type": "code",
   "execution_count": null,
   "metadata": {},
   "outputs": [],
   "source": [
    "회귀분석을 위한 데이터 변환의 의미\n",
    "로지스틱 회귀(penalty/ C를 통한 규제)\n",
    "트리기반의 회귀방식\n"
   ]
  },
  {
   "cell_type": "code",
   "execution_count": null,
   "metadata": {},
   "outputs": [],
   "source": [
    "10개의 정수를 입력받아 그 중 가장 작은 수를 출력하는 프로그램을 작성하시오.(입력받을 정수는 1000을 넘지 않는다.)"
   ]
  },
  {
   "cell_type": "code",
   "execution_count": 34,
   "metadata": {},
   "outputs": [
    {
     "name": "stdout",
     "output_type": "stream",
     "text": [
      "10 55 64 71 -7 2 6 4 -11\n",
      "2\n"
     ]
    }
   ],
   "source": [
    "n = list(map(int,input().split()))\n",
    "plus = []\n",
    "minus = []\n",
    "\n",
    "\n",
    "for i in n:\n",
    "    if i >= 0:\n",
    "        plus.append(i)\n",
    "    elif i < 0:\n",
    "        minus.append(i)\n",
    "\n",
    "print(min(plus))\n",
    "\n",
    "\n",
    "\n",
    "\n"
   ]
  },
  {
   "cell_type": "code",
   "execution_count": null,
   "metadata": {},
   "outputs": [],
   "source": []
  },
  {
   "cell_type": "code",
   "execution_count": null,
   "metadata": {},
   "outputs": [],
   "source": []
  },
  {
   "cell_type": "code",
   "execution_count": null,
   "metadata": {},
   "outputs": [],
   "source": []
  },
  {
   "cell_type": "code",
   "execution_count": null,
   "metadata": {},
   "outputs": [],
   "source": []
  }
 ],
 "metadata": {
  "kernelspec": {
   "display_name": "Python 3",
   "language": "python",
   "name": "python3"
  },
  "language_info": {
   "codemirror_mode": {
    "name": "ipython",
    "version": 3
   },
   "file_extension": ".py",
   "mimetype": "text/x-python",
   "name": "python",
   "nbconvert_exporter": "python",
   "pygments_lexer": "ipython3",
   "version": "3.7.6"
  }
 },
 "nbformat": 4,
 "nbformat_minor": 4
}
